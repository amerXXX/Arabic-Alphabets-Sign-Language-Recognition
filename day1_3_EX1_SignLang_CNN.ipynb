{
  "nbformat": 4,
  "nbformat_minor": 0,
  "metadata": {
    "colab": {
      "provenance": [],
      "collapsed_sections": [
        "qWb17ZPBAWvP"
      ],
      "gpuType": "T4"
    },
    "kernelspec": {
      "name": "python3",
      "display_name": "Python 3"
    },
    "language_info": {
      "name": "python"
    },
    "accelerator": "GPU"
  },
  "cells": [
    {
      "cell_type": "code",
      "execution_count": 2,
      "metadata": {
        "id": "BCpQaqwoH2Pk"
      },
      "outputs": [],
      "source": [
        "from IPython.display import clear_output"
      ]
    },
    {
      "cell_type": "code",
      "source": [
        "\n",
        "# Download the required libraries (needed when running outside colab where the environment doesn't come pre-loaded with libraries)\n",
        "\n",
        "%pip install torch\n",
        "%pip install torchvision\n",
        "%pip install matplotlib\n",
        "\n",
        "clear_output()"
      ],
      "metadata": {
        "id": "HBuuF9MJKjoe"
      },
      "execution_count": 3,
      "outputs": []
    },
    {
      "cell_type": "code",
      "source": [
        "import torch\n",
        "import torch.nn as nn\n",
        "import torch.nn.functional as F\n",
        "\n",
        "from torchvision.datasets import MNIST\n",
        "from torchvision.transforms.functional import to_tensor, to_pil_image, resize\n",
        "from torchvision import transforms\n",
        "\n",
        "from torch.utils.data import DataLoader\n",
        "from torch.optim import Adam\n",
        "\n",
        "import matplotlib.pyplot as plt"
      ],
      "metadata": {
        "id": "gtV7omCIKq0K"
      },
      "execution_count": 4,
      "outputs": []
    },
    {
      "cell_type": "markdown",
      "source": [
        "# Sign Langauge Problem:\n",
        "\n",
        "## Intution: The AI is so powrful and important because of its various applications on most if not all the different fields. As a result, we want to help in solving the issue of not understanding sign languages.\n",
        "\n",
        "## - This notebook contains a detailed implementaiton of a NN uisng Pytorch.\n",
        "\n",
        "### 1. Data set Details:\n",
        "\n",
        "- The provided data set is ArASL (Arabic Alphabets Sign Language Dataset). It is as its name says, an arabic sighn langauge for Arabic alphabet. It has a total of 54049 images and their corrssponding labels.\n",
        "\n",
        "### 2. Size of data:\n",
        "- Length of train_dataset is 43239,\n",
        "- Length of val_dataset is 10810\n",
        "\n",
        "### 3. Labels representations:\n",
        "- Each sample has a label, which can be one of the 32 classes.\n",
        "It consist of 32 classes for the alphabet.\n",
        "- The classes values are integers from 0 up to 31.\n",
        "\n",
        "\n",
        "### 4. The mapping details:\n",
        "\n",
        "- Each number represents a charcter. You can see the dictionary in the variable \"mapping\".\n",
        "\n",
        "<br/>\n",
        "-- You can see the mapping in the following:\n",
        "\n",
        "0: 'seen', 1: 'zay', 2: 'aleff', 3: 'dal', 4: 'ta', 5: 'yaa', 6: 'fa', 7: 'ya', 8: 'khaa', 9: 'nun', 10: 'ha', 11: 'toot', 12: 'taa', 13: 'ra', 14: 'kaaf', 15: 'jeem', 16: 'laam', 17: 'la', 18: 'dhad', 19: 'dha', 20: 'waw', 21: 'meem', 22: 'al', 23: 'sheen', 24: 'haa', 25: 'thaa', 26: 'saad', 27: 'ghain', 28: 'ain', 29: 'thal', 30: 'gaaf', 31: 'bb'\n",
        "\n",
        "### 5. Refrence:\n",
        "Latif, G., Mohammad, N., Alghazo, J., AlKhalaf, R., & AlKhalaf, R. (2019). ARASL: Arabic Alphabets Sign Language Dataset. *Data in Brief*, 23, 103777. https://doi.org/10.1016/j.dib.2019.103777"
      ],
      "metadata": {
        "id": "JBNjc2JpLGIa"
      }
    },
    {
      "cell_type": "markdown",
      "source": [
        "## Downloading the dataset\n",
        "\n",
        "### Run the following cells to download the MNIST dataset."
      ],
      "metadata": {
        "id": "Gw5z1ZSoLlh1"
      }
    },
    {
      "cell_type": "code",
      "source": [
        "!gdown https://data.mendeley.com/public-files/datasets/y7pckrw6z2/files/1efa0d6b-4d7f-4f58-9584-08f0488279ee/file_downloaded"
      ],
      "metadata": {
        "colab": {
          "base_uri": "https://localhost:8080/"
        },
        "id": "AqQxPwbp7TfV",
        "outputId": "b8b1ef29-de9d-467b-a42a-90a68e89f069"
      },
      "execution_count": 5,
      "outputs": [
        {
          "output_type": "stream",
          "name": "stdout",
          "text": [
            "Downloading...\n",
            "From: https://data.mendeley.com/public-files/datasets/y7pckrw6z2/files/1efa0d6b-4d7f-4f58-9584-08f0488279ee/file_downloaded\n",
            "To: /content/file_downloaded\n",
            "100% 66.2M/66.2M [00:04<00:00, 16.0MB/s]\n"
          ]
        }
      ]
    },
    {
      "cell_type": "code",
      "source": [
        "import os\n",
        "\n",
        "def delete_folder(folder_path):\n",
        "    try:\n",
        "        # Get the list of files and subdirectories in the folder\n",
        "        for item in os.listdir(folder_path):\n",
        "            item_path = os.path.join(folder_path, item)\n",
        "\n",
        "            # If it's a file, delete it\n",
        "            if os.path.isfile(item_path):\n",
        "                os.remove(item_path)\n",
        "            # If it's a directory, recursively call delete_folder\n",
        "            elif os.path.isdir(item_path):\n",
        "                delete_folder(item_path)\n",
        "\n",
        "        # Remove the empty folder\n",
        "        os.rmdir(folder_path)\n",
        "        print(f\"Folder '{folder_path}' and its contents deleted successfully.\")\n",
        "    except FileNotFoundError:\n",
        "        print(f\"Folder '{folder_path}' not found.\")\n",
        "    except PermissionError:\n",
        "        print(f\"Permission error: Unable to delete folder '{folder_path}'.\")\n",
        "    except Exception as e:\n",
        "        print(f\"An error occurred: {e}\")\n",
        "\n",
        "\n",
        "delete_folder('ArASL_Database_54K_Final')\n",
        "\n",
        "!unzip file_downloaded\n",
        "clear_output()"
      ],
      "metadata": {
        "id": "yfnx8Ebf7pTT"
      },
      "execution_count": 6,
      "outputs": []
    },
    {
      "cell_type": "markdown",
      "source": [
        "## Just run these two cells. You do not need to explore them, but it would be a plus if you understand them."
      ],
      "metadata": {
        "id": "qWb17ZPBAWvP"
      }
    },
    {
      "cell_type": "code",
      "source": [
        "import os\n",
        "\n",
        "def rename_folders_and_create_mapping(folder_path):\n",
        "    # Get the list of folders in the specified path\n",
        "    folders = [folder for folder in os.listdir(folder_path) if os.path.isdir(os.path.join(folder_path, folder))]\n",
        "\n",
        "    # Create a mapping from original folder names to numbers\n",
        "    folder_mapping = {folder: i for i, folder in enumerate(folders)}\n",
        "\n",
        "    # Rename the folders in-place and store the original names in the mapping\n",
        "    for original_folder, number in folder_mapping.items():\n",
        "        new_folder_name = str(number)\n",
        "        new_folder_path = os.path.join(folder_path, new_folder_name)\n",
        "\n",
        "        # Rename the folder\n",
        "        os.rename(os.path.join(folder_path, original_folder), new_folder_path)\n",
        "\n",
        "    return folder_mapping\n",
        "\n",
        "folder_path = 'ArASL_Database_54K_Final'\n",
        "\n",
        "# Create the folder mapping and rename folders\n",
        "mapping = rename_folders_and_create_mapping(folder_path)\n",
        "\n",
        "# Print the folder mapping\n",
        "print(\"Folder Mapping:\")\n",
        "print(mapping)\n"
      ],
      "metadata": {
        "colab": {
          "base_uri": "https://localhost:8080/"
        },
        "id": "6sjyA1C1E5ik",
        "outputId": "60e62847-06b0-48cc-ff84-21bf7590f2c5"
      },
      "execution_count": 7,
      "outputs": [
        {
          "metadata": {
            "tags": null
          },
          "name": "stdout",
          "output_type": "stream",
          "text": [
            "Folder Mapping:\n",
            "{'gaaf': 0, 'khaa': 1, 'sheen': 2, 'fa': 3, 'laam': 4, 'toot': 5, 'nun': 6, 'ya': 7, 'bb': 8, 'aleff': 9, 'dal': 10, 'ghain': 11, 'thaa': 12, 'ha': 13, 'taa': 14, 'la': 15, 'thal': 16, 'dha': 17, 'dhad': 18, 'ain': 19, 'zay': 20, 'haa': 21, 'saad': 22, 'jeem': 23, 'ra': 24, 'kaaf': 25, 'waw': 26, 'al': 27, 'ta': 28, 'meem': 29, 'yaa': 30, 'seen': 31}\n"
          ]
        }
      ]
    },
    {
      "cell_type": "code",
      "source": [
        "import torch\n",
        "from torch.utils.data import Dataset, DataLoader\n",
        "from torchvision import transforms\n",
        "from PIL import Image\n",
        "import os\n",
        "\n",
        "class CustomDataset(Dataset):\n",
        "    def __init__(self, root_folder, transform=None, target_size=(48, 48)):\n",
        "        self.root_folder = root_folder\n",
        "        self.transform = transform\n",
        "        self.target_size = target_size\n",
        "\n",
        "        # Get the list of image files\n",
        "        self.image_files = []\n",
        "        self.image_labels = []\n",
        "\n",
        "        for root, dirs, files in os.walk(root_folder):\n",
        "            for file in files:\n",
        "                if file.lower().endswith('.jpg'):\n",
        "                    self.image_files.append(os.path.join(root, file))\n",
        "                    self.image_labels.append(int(os.path.basename(root)))\n",
        "\n",
        "    def __len__(self):\n",
        "        return len(self.image_labels)\n",
        "\n",
        "    def __getitem__(self, idx):\n",
        "        img_path = self.image_files[idx]\n",
        "        label = self.image_labels[idx]\n",
        "\n",
        "        # Convert label to tensor\n",
        "        # print(\"Label\", label, type(label))\n",
        "        label = torch.tensor(label)\n",
        "\n",
        "        # Open the image\n",
        "        with Image.open(img_path) as img:\n",
        "            # Convert the image to grayscale\n",
        "            img = img.convert('L')\n",
        "\n",
        "            # Resize the image\n",
        "            img = img.resize(self.target_size)\n",
        "\n",
        "            # Apply additional transformations if specified\n",
        "            if self.transform:\n",
        "                img = self.transform(img)\n",
        "\n",
        "            return (img, label)\n",
        "\n",
        "# Define the root folder and output folder\n",
        "root_folder_path = 'ArASL_Database_54K_Final'\n",
        "\n",
        "\n",
        "# Define transformations (resize to 28x28 and convert to tensor)\n",
        "data_transform = transforms.Compose([\n",
        "    # transforms.Resize((48, 48)),\n",
        "    transforms.ToTensor(),\n",
        "])\n",
        "\n",
        "# Create an instance of the custom dataset\n",
        "custom_dataset = CustomDataset(root_folder_path, transform=data_transform)\n",
        "\n",
        "from torch.utils.data import random_split\n",
        "\n",
        "# Define the size of the training and validation sets\n",
        "total_size = len(custom_dataset)\n",
        "train_size = int(0.8 * total_size)  # 80% for training\n",
        "val_size = total_size - train_size  # 20% for validation\n",
        "\n",
        "# Split the dataset\n",
        "train_dataset, val_dataset = random_split(custom_dataset, [train_size, val_size])\n",
        "\n",
        "mapping = {v:k for k,v in mapping.items()}"
      ],
      "metadata": {
        "id": "Efxefg5j94pO"
      },
      "execution_count": 8,
      "outputs": []
    },
    {
      "cell_type": "markdown",
      "source": [
        "## Exploring the data"
      ],
      "metadata": {
        "id": "ObDvaInfAdBJ"
      }
    },
    {
      "cell_type": "markdown",
      "source": [
        "#### Here is the mapping for each class and its encoding. In addition to the train_dataset and val_dataset"
      ],
      "metadata": {
        "id": "GmA6buxlh9XI"
      }
    },
    {
      "cell_type": "code",
      "source": [
        "train_dataset # Contains the training ArASL_Database_54K_Final dataset (80%)\n",
        "\n",
        "val_dataset  # Contains the validating ArASL_Database_54K_Final dataset (20%)\n",
        "\n",
        "\n",
        "print(\"The mapping between the letters and the encoding: \\n\", mapping)\n",
        "\n",
        "# Check the lengths of train_dataset and val_dataset.\n"
      ],
      "metadata": {
        "colab": {
          "base_uri": "https://localhost:8080/"
        },
        "id": "60ugrf0DMF2N",
        "outputId": "10f587f0-db2a-4801-a3eb-0c87f8561c4f"
      },
      "execution_count": 9,
      "outputs": [
        {
          "output_type": "stream",
          "name": "stdout",
          "text": [
            "The mapping between the letters and the encoding: \n",
            " {0: 'gaaf', 1: 'khaa', 2: 'sheen', 3: 'fa', 4: 'laam', 5: 'toot', 6: 'nun', 7: 'ya', 8: 'bb', 9: 'aleff', 10: 'dal', 11: 'ghain', 12: 'thaa', 13: 'ha', 14: 'taa', 15: 'la', 16: 'thal', 17: 'dha', 18: 'dhad', 19: 'ain', 20: 'zay', 21: 'haa', 22: 'saad', 23: 'jeem', 24: 'ra', 25: 'kaaf', 26: 'waw', 27: 'al', 28: 'ta', 29: 'meem', 30: 'yaa', 31: 'seen'}\n"
          ]
        }
      ]
    },
    {
      "cell_type": "code",
      "source": [
        "batch_size = 64 # To group each k samples together.\n",
        "\n",
        "# DataLoaders simplify the job of grouping the samples into batches.\n",
        "train_loader = DataLoader(train_dataset, batch_size=batch_size, shuffle=True)\n",
        "val_loader = DataLoader(val_dataset, batch_size=batch_size, shuffle=False)  # no need to shuffle validation data"
      ],
      "metadata": {
        "id": "Oj4XUGKBQmwH"
      },
      "execution_count": 10,
      "outputs": []
    },
    {
      "cell_type": "markdown",
      "source": [
        "## Let's visualize an image."
      ],
      "metadata": {
        "id": "4bw5HNZeQ7Gc"
      }
    },
    {
      "cell_type": "code",
      "source": [
        "random_img_idx = 350 # Write any random index (between 0 and 59999)\n",
        "\n",
        "image = train_dataset[random_img_idx][0]  # 0 for image part in (image, label) tuple.\n",
        "label = train_dataset[random_img_idx][1]  # 1 for label part\n",
        "\n",
        "print(\"The image label:\", label.item(), mapping[label.item()])\n",
        "\n",
        "plt.imshow(image.reshape(image.shape[1], image.shape[1]), cmap='gray')"
      ],
      "metadata": {
        "colab": {
          "base_uri": "https://localhost:8080/",
          "height": 467
        },
        "id": "kXxCJ5pQQ5jw",
        "outputId": "203f1da7-d57c-48f9-8c7d-142f65ca1b8d"
      },
      "execution_count": 11,
      "outputs": [
        {
          "output_type": "stream",
          "name": "stdout",
          "text": [
            "The image label: 23 jeem\n"
          ]
        },
        {
          "output_type": "execute_result",
          "data": {
            "text/plain": [
              "<matplotlib.image.AxesImage at 0x7ba6369fa8d0>"
            ]
          },
          "metadata": {},
          "execution_count": 11
        },
        {
          "output_type": "display_data",
          "data": {
            "text/plain": [
              "<Figure size 640x480 with 1 Axes>"
            ],
            "image/png": "[encoded data removed]"
          },
          "metadata": {}
        }
      ]
    },
    {
      "cell_type": "markdown",
      "source": [
        "### Create a loop to show 10 different images ranodmly"
      ],
      "metadata": {
        "id": "5wATuG1cPwms"
      }
    },
    {
      "cell_type": "code",
      "source": [
        "from matplotlib.pyplot import subplots\n",
        "\n",
        "# batch_size = 64 # To group each k samples together.\n",
        "\n",
        "# # DataLoaders simplify the job of grouping the samples into batches.\n",
        "# train_loader = DataLoader(train_dataset, batch_size=batch_size, shuffle=True)\n",
        "# val_loader = DataLoader(val_dataset, batch_size=batch_size, shuffle=False)  # no need to shuffle validation data\n",
        "\n",
        "# image , lable = next(iter(train_loader))\n",
        "\n",
        "# fig , axes = subplots(nrows=2, ncols=5, figsize=(12, 6))\n",
        "# for indx, ax in enumerate(axes.flatten()):\n",
        "#   img = image[indx]\n",
        "#   lab = label[indx]\n",
        "\n",
        "#   ax.imshow(img.reshape(img.shape[1], img.shape[1]), cmap='gray')\n",
        "#   ax.set_title(mapping[lab])\n",
        "#   ax.axis('off')\n",
        "\n",
        "\n",
        "from matplotlib.pyplot import subplots\n",
        "\n",
        "image , lable = next(iter(train_loader))\n",
        "\n",
        "fig , axes = subplots(nrows=2, ncols=5, figsize=(12, 6))\n",
        "\n",
        "for i, ax in enumerate(axes.flatten()):\n",
        "  img = image[i].squeeze()\n",
        "  lbl = lable[i].item()\n",
        "  ax.imshow(img, cmap='gray')\n",
        "  ax.set_title(f\"Label: {lbl}, {mapping[lbl]}\")\n",
        "  ax.axis('off')\n",
        "\n",
        "plt.tight_layout()\n",
        "plt.show()\n",
        ""
      ],
      "metadata": {
        "id": "SIHE3pWlPvvK",
        "colab": {
          "base_uri": "https://localhost:8080/",
          "height": 372
        },
        "outputId": "6724de70-5db0-4a38-89ba-0876c9732063"
      },
      "execution_count": 12,
      "outputs": [
        {
          "output_type": "display_data",
          "data": {
            "text/plain": [
              "<Figure size 1200x600 with 10 Axes>"
            ],
            "image/png": "[encoded data removed]"
          },
          "metadata": {}
        }
      ]
    },
    {
      "cell_type": "markdown",
      "source": [
        "### Create a CNN uisng Pytorch. Then, train the model. Play with the layers to get the best model on the validation data, try to reach a 90% accuracy. At least, make 3 different layers. Also, try different activation functions."
      ],
      "metadata": {
        "id": "qvysz1ZnSh7f"
      }
    },
    {
      "cell_type": "markdown",
      "source": [
        "# `Build the model CCN`\n",
        "\n",
        "\n"
      ],
      "metadata": {
        "id": "4v3ZBiwqNvg5"
      }
    },
    {
      "cell_type": "code",
      "source": [
        "import torch.optim as optim\n",
        "from tqdm import tqdm\n",
        "\n",
        "class CNNModel(nn.Module):\n",
        "  def __init__(self, num_classes=32):\n",
        "      super().__init__()\n",
        "      self.conv1 = nn.Conv2d(in_channels=1, out_channels=16, kernel_size=3, stride=1, padding=1)\n",
        "      self.relu = nn.ReLU()\n",
        "      self.maxpool = nn.MaxPool2d(kernel_size=2, stride=2)\n",
        "      self.conv2 = nn.Conv2d(in_channels=16, out_channels=32, kernel_size=3, stride=1, padding=1)\n",
        "      self.conv3 = nn.Conv2d(in_channels=32, out_channels=64, kernel_size=3, stride=1, padding=1)\n",
        "      self.flatten = nn.Flatten()\n",
        "\n",
        "      # Calculate the input features for the first fully connected layer\n",
        "      # by passing a dummy tensor through the convolutional and pooling layers\n",
        "      dummy_input = torch.randn(1, 1, 48, 48) # Assuming input image size is 48x48\n",
        "      output_size = self._forward_conv(dummy_input).size(1)\n",
        "      self.fc1 = nn.Linear(in_features=output_size, out_features=128)\n",
        "      self.fc2 = nn.Linear(in_features=128, out_features=num_classes)\n",
        "\n",
        "  def _forward_conv(self, x):\n",
        "      x = self.conv1(x)\n",
        "      x = self.relu(x)\n",
        "      x = self.maxpool(x)\n",
        "      x = self.conv2(x)\n",
        "      x = self.relu(x)\n",
        "      x = self.maxpool(x)\n",
        "      x = self.conv3(x)\n",
        "      x = self.relu(x)\n",
        "      x = self.maxpool(x)\n",
        "      x = self.flatten(x)\n",
        "      return x\n",
        "\n",
        "\n",
        "  def forward(self, x):\n",
        "    x = self._forward_conv(x)\n",
        "    x = self.fc1(x)\n",
        "    x = self.relu(x)\n",
        "    x = self.fc2(x)\n",
        "    return x\n",
        "\n",
        "# Instantiate the model\n",
        "num_classes = 32\n",
        "model = CNNModel(num_classes).to('cuda' if torch.cuda.is_available() else 'cpu')\n",
        "\n",
        "# Loss and optimizer\n",
        "criterion = nn.CrossEntropyLoss()\n",
        "optimizer = optim.Adam(model.parameters(), lr=0.001)\n",
        "\n",
        "# Training loop (basic version, 5 epochs)\n",
        "device = 'cuda' if torch.cuda.is_available() else 'cpu'\n",
        "for epoch in range(5):\n",
        "    model.train()\n",
        "    running_loss = 0.0\n",
        "    correct = 0\n",
        "    total = 0\n",
        "    for images, labels in tqdm(train_loader):\n",
        "        images, labels = images.to(device), labels.to(device)\n",
        "        optimizer.zero_grad()\n",
        "        outputs = model(images)\n",
        "        loss = criterion(outputs, labels)\n",
        "        loss.backward()\n",
        "        optimizer.step()\n",
        "\n",
        "        running_loss += loss.item()\n",
        "        _, predicted = outputs.max(1)\n",
        "        total += labels.size(0)\n",
        "        correct += (predicted == labels).sum().item()\n",
        "    acc = 100 * correct / total\n",
        "    print(f\"Epoch {epoch+1}, Loss: {running_loss:.3f}, Training Acc: {acc:.2f}%\")\n",
        "\n",
        "# Validate\n",
        "model.eval()\n",
        "correct, total = 0, 0\n",
        "with torch.no_grad():\n",
        "    for images, labels in tqdm(val_loader):\n",
        "        images, labels = images.to(device), labels.to(device)\n",
        "        outputs = model(images)\n",
        "        _, predicted = outputs.max(1)\n",
        "        total += labels.size(0)\n",
        "        correct += (predicted == labels).sum().item()\n",
        "val_acc = 100 * correct / total\n",
        "print(f'Validation Accuracy: {val_acc:.2f}%')"
      ],
      "metadata": {
        "id": "5G7ib-G0LTC1",
        "colab": {
          "base_uri": "https://localhost:8080/"
        },
        "outputId": "5e62cd19-b965-43f6-daca-193451bbf9f1"
      },
      "execution_count": 16,
      "outputs": [
        {
          "output_type": "stream",
          "name": "stderr",
          "text": [
            "100%|██████████| 676/676 [00:19<00:00, 34.11it/s]\n"
          ]
        },
        {
          "output_type": "stream",
          "name": "stdout",
          "text": [
            "Epoch 1, Loss: 1195.006, Training Acc: 47.43%\n"
          ]
        },
        {
          "output_type": "stream",
          "name": "stderr",
          "text": [
            "100%|██████████| 676/676 [00:19<00:00, 34.86it/s]\n"
          ]
        },
        {
          "output_type": "stream",
          "name": "stdout",
          "text": [
            "Epoch 2, Loss: 339.510, Training Acc: 85.39%\n"
          ]
        },
        {
          "output_type": "stream",
          "name": "stderr",
          "text": [
            "100%|██████████| 676/676 [00:20<00:00, 33.62it/s]\n"
          ]
        },
        {
          "output_type": "stream",
          "name": "stdout",
          "text": [
            "Epoch 3, Loss: 198.712, Training Acc: 92.10%\n"
          ]
        },
        {
          "output_type": "stream",
          "name": "stderr",
          "text": [
            "100%|██████████| 676/676 [00:20<00:00, 33.67it/s]\n"
          ]
        },
        {
          "output_type": "stream",
          "name": "stdout",
          "text": [
            "Epoch 4, Loss: 144.880, Training Acc: 94.31%\n"
          ]
        },
        {
          "output_type": "stream",
          "name": "stderr",
          "text": [
            "100%|██████████| 676/676 [00:19<00:00, 33.95it/s]\n"
          ]
        },
        {
          "output_type": "stream",
          "name": "stdout",
          "text": [
            "Epoch 5, Loss: 114.329, Training Acc: 95.42%\n"
          ]
        },
        {
          "output_type": "stream",
          "name": "stderr",
          "text": [
            "100%|██████████| 169/169 [00:04<00:00, 35.82it/s]"
          ]
        },
        {
          "output_type": "stream",
          "name": "stdout",
          "text": [
            "Validation Accuracy: 94.85%\n"
          ]
        },
        {
          "output_type": "stream",
          "name": "stderr",
          "text": [
            "\n"
          ]
        }
      ]
    },
    {
      "cell_type": "code",
      "source": [],
      "metadata": {
        "id": "9WgWARvDRbnu"
      },
      "execution_count": null,
      "outputs": []
    },
    {
      "cell_type": "markdown",
      "source": [
        "# Contributed by: Hassan Alsayhah"
      ],
      "metadata": {
        "id": "LgJ5LaE6qj6Q"
      }
    },
    {
      "cell_type": "markdown",
      "source": [
        "![image.png](https://i.imgur.com/a3uAqnb.png)"
      ],
      "metadata": {
        "id": "tczU0ZspqonW"
      }
    },
    {
      "cell_type": "markdown",
      "source": [
        "AMER solved notebook"
      ],
      "metadata": {
        "id": "C09CfnJrSMcC"
      }
    },
    {
      "cell_type": "code",
      "source": [],
      "metadata": {
        "id": "UjqPu7dQSRCE"
      },
      "execution_count": null,
      "outputs": []
    }
  ]
}